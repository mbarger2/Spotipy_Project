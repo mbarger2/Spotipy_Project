{
 "cells": [
  {
   "cell_type": "code",
   "execution_count": 1,
   "id": "1f426867",
   "metadata": {},
   "outputs": [],
   "source": [
    "import pandas as pd\n",
    "import numpy as np\n",
    "from sklearn.cluster import KMeans\n",
    "from sklearn.preprocessing import StandardScaler\n",
    "import random\n",
    "import spotipy\n",
    "from spotipy.oauth2 import SpotifyClientCredentials\n",
    "import getpass"
   ]
  },
  {
   "cell_type": "code",
   "execution_count": 14,
   "id": "e759db43",
   "metadata": {},
   "outputs": [],
   "source": [
    "sp = spotipy.Spotify(auth_manager=SpotifyClientCredentials(client_id=\"30da7dcb7eeb4f038924583a5dc6dfb3\",\n",
    "                                                           client_secret=\"d4d0d4cc03c3457bb24ec6dd80b17441\"))"
   ]
  },
  {
   "cell_type": "code",
   "execution_count": 2,
   "id": "fa277677",
   "metadata": {},
   "outputs": [
    {
     "name": "stdout",
     "output_type": "stream",
     "text": [
      "client_id: ········\n",
      "client_secret: ········\n"
     ]
    }
   ],
   "source": [
    "client_id = getpass.getpass(prompt='client_id: ', stream=None)\n",
    "client_secret = getpass.getpass(prompt='client_secret: ', stream=None)"
   ]
  },
  {
   "cell_type": "code",
   "execution_count": 84,
   "id": "1f50fd06",
   "metadata": {},
   "outputs": [],
   "source": []
  },
  {
   "cell_type": "code",
   "execution_count": 3,
   "id": "f921f30e",
   "metadata": {},
   "outputs": [],
   "source": [
    "music = pd.read_csv('C://Users//Matthew//DA//Activities//Best_Song_Table.csv')"
   ]
  },
  {
   "cell_type": "code",
   "execution_count": 5,
   "id": "71ab3912",
   "metadata": {},
   "outputs": [
    {
     "data": {
      "text/plain": [
       "(6832, 21)"
      ]
     },
     "execution_count": 5,
     "metadata": {},
     "output_type": "execute_result"
    }
   ],
   "source": [
    "music.shape"
   ]
  },
  {
   "cell_type": "code",
   "execution_count": 21,
   "id": "fc68d9cc",
   "metadata": {},
   "outputs": [
    {
     "data": {
      "text/html": [
       "<div>\n",
       "<style scoped>\n",
       "    .dataframe tbody tr th:only-of-type {\n",
       "        vertical-align: middle;\n",
       "    }\n",
       "\n",
       "    .dataframe tbody tr th {\n",
       "        vertical-align: top;\n",
       "    }\n",
       "\n",
       "    .dataframe thead th {\n",
       "        text-align: right;\n",
       "    }\n",
       "</style>\n",
       "<table border=\"1\" class=\"dataframe\">\n",
       "  <thead>\n",
       "    <tr style=\"text-align: right;\">\n",
       "      <th></th>\n",
       "      <th>index</th>\n",
       "      <th>danceability</th>\n",
       "      <th>energy</th>\n",
       "      <th>key</th>\n",
       "      <th>loudness</th>\n",
       "      <th>mode</th>\n",
       "      <th>speechiness</th>\n",
       "      <th>acousticness</th>\n",
       "      <th>instrumentalness</th>\n",
       "      <th>liveness</th>\n",
       "      <th>valence</th>\n",
       "      <th>tempo</th>\n",
       "      <th>duration_ms</th>\n",
       "      <th>time_signature</th>\n",
       "      <th>song_name</th>\n",
       "      <th>clusters</th>\n",
       "    </tr>\n",
       "  </thead>\n",
       "  <tbody>\n",
       "    <tr>\n",
       "      <th>6829</th>\n",
       "      <td>6lX8VElLj8r0WOkv4Rs51f</td>\n",
       "      <td>0.919</td>\n",
       "      <td>0.734</td>\n",
       "      <td>11</td>\n",
       "      <td>-7.251</td>\n",
       "      <td>0</td>\n",
       "      <td>0.247</td>\n",
       "      <td>0.0597</td>\n",
       "      <td>0.0</td>\n",
       "      <td>0.135</td>\n",
       "      <td>0.500</td>\n",
       "      <td>145.025</td>\n",
       "      <td>184067</td>\n",
       "      <td>4</td>\n",
       "      <td>Proud</td>\n",
       "      <td>0</td>\n",
       "    </tr>\n",
       "    <tr>\n",
       "      <th>6830</th>\n",
       "      <td>0Y7NbvBfSD0Hr4e4QugQEU</td>\n",
       "      <td>0.841</td>\n",
       "      <td>0.512</td>\n",
       "      <td>0</td>\n",
       "      <td>-4.550</td>\n",
       "      <td>0</td>\n",
       "      <td>0.276</td>\n",
       "      <td>0.0470</td>\n",
       "      <td>0.0</td>\n",
       "      <td>0.128</td>\n",
       "      <td>0.129</td>\n",
       "      <td>140.042</td>\n",
       "      <td>155193</td>\n",
       "      <td>4</td>\n",
       "      <td>Hustlers &amp; Shooters</td>\n",
       "      <td>0</td>\n",
       "    </tr>\n",
       "    <tr>\n",
       "      <th>6831</th>\n",
       "      <td>05KKOI0SXutMpliFutgwOx</td>\n",
       "      <td>0.931</td>\n",
       "      <td>0.598</td>\n",
       "      <td>2</td>\n",
       "      <td>-6.309</td>\n",
       "      <td>1</td>\n",
       "      <td>0.433</td>\n",
       "      <td>0.0541</td>\n",
       "      <td>0.0</td>\n",
       "      <td>0.103</td>\n",
       "      <td>0.475</td>\n",
       "      <td>139.944</td>\n",
       "      <td>137293</td>\n",
       "      <td>4</td>\n",
       "      <td>Toolie</td>\n",
       "      <td>0</td>\n",
       "    </tr>\n",
       "  </tbody>\n",
       "</table>\n",
       "</div>"
      ],
      "text/plain": [
       "                       index  danceability  energy  key  loudness  mode  \\\n",
       "6829  6lX8VElLj8r0WOkv4Rs51f         0.919   0.734   11    -7.251     0   \n",
       "6830  0Y7NbvBfSD0Hr4e4QugQEU         0.841   0.512    0    -4.550     0   \n",
       "6831  05KKOI0SXutMpliFutgwOx         0.931   0.598    2    -6.309     1   \n",
       "\n",
       "      speechiness  acousticness  instrumentalness  liveness  valence    tempo  \\\n",
       "6829        0.247        0.0597               0.0     0.135    0.500  145.025   \n",
       "6830        0.276        0.0470               0.0     0.128    0.129  140.042   \n",
       "6831        0.433        0.0541               0.0     0.103    0.475  139.944   \n",
       "\n",
       "      duration_ms  time_signature            song_name  clusters  \n",
       "6829       184067               4                Proud         0  \n",
       "6830       155193               4  Hustlers & Shooters         0  \n",
       "6831       137293               4               Toolie         0  "
      ]
     },
     "execution_count": 21,
     "metadata": {},
     "output_type": "execute_result"
    }
   ],
   "source": [
    "music.tail(3)"
   ]
  },
  {
   "cell_type": "code",
   "execution_count": 4,
   "id": "2a6f82cb",
   "metadata": {},
   "outputs": [],
   "source": [
    "music = music.drop(['Unnamed: 0','type','id','uri','track_href','analysis_url'],axis=1)"
   ]
  },
  {
   "cell_type": "code",
   "execution_count": 7,
   "id": "898e3b1b",
   "metadata": {},
   "outputs": [
    {
     "data": {
      "text/plain": [
       "Index(['index', 'danceability', 'energy', 'key', 'loudness', 'mode',\n",
       "       'speechiness', 'acousticness', 'instrumentalness', 'liveness',\n",
       "       'valence', 'tempo', 'duration_ms', 'time_signature', 'song_name'],\n",
       "      dtype='object')"
      ]
     },
     "execution_count": 7,
     "metadata": {},
     "output_type": "execute_result"
    }
   ],
   "source": [
    "music.columns"
   ]
  },
  {
   "cell_type": "code",
   "execution_count": 8,
   "id": "8299922a",
   "metadata": {},
   "outputs": [],
   "source": [
    "music=music.drop_duplicates(subset=['index']).reset_index()"
   ]
  },
  {
   "cell_type": "code",
   "execution_count": 10,
   "id": "0f284997",
   "metadata": {},
   "outputs": [
    {
     "data": {
      "text/html": [
       "<div>\n",
       "<style scoped>\n",
       "    .dataframe tbody tr th:only-of-type {\n",
       "        vertical-align: middle;\n",
       "    }\n",
       "\n",
       "    .dataframe tbody tr th {\n",
       "        vertical-align: top;\n",
       "    }\n",
       "\n",
       "    .dataframe thead th {\n",
       "        text-align: right;\n",
       "    }\n",
       "</style>\n",
       "<table border=\"1\" class=\"dataframe\">\n",
       "  <thead>\n",
       "    <tr style=\"text-align: right;\">\n",
       "      <th></th>\n",
       "      <th>level_0</th>\n",
       "      <th>index</th>\n",
       "      <th>danceability</th>\n",
       "      <th>energy</th>\n",
       "      <th>key</th>\n",
       "      <th>loudness</th>\n",
       "      <th>mode</th>\n",
       "      <th>speechiness</th>\n",
       "      <th>acousticness</th>\n",
       "      <th>instrumentalness</th>\n",
       "      <th>liveness</th>\n",
       "      <th>valence</th>\n",
       "      <th>tempo</th>\n",
       "      <th>duration_ms</th>\n",
       "      <th>time_signature</th>\n",
       "      <th>song_name</th>\n",
       "    </tr>\n",
       "  </thead>\n",
       "  <tbody>\n",
       "    <tr>\n",
       "      <th>0</th>\n",
       "      <td>0</td>\n",
       "      <td>4kRDWcWcBlkcQNoWyWSkTg</td>\n",
       "      <td>0.498</td>\n",
       "      <td>0.949</td>\n",
       "      <td>11</td>\n",
       "      <td>-4.367</td>\n",
       "      <td>0</td>\n",
       "      <td>0.0575</td>\n",
       "      <td>0.000324</td>\n",
       "      <td>0.023200</td>\n",
       "      <td>0.0783</td>\n",
       "      <td>0.517</td>\n",
       "      <td>95.027</td>\n",
       "      <td>180691</td>\n",
       "      <td>3</td>\n",
       "      <td>The Shift</td>\n",
       "    </tr>\n",
       "    <tr>\n",
       "      <th>1</th>\n",
       "      <td>1</td>\n",
       "      <td>4cbmDY9GDPhipvX4kY9pRg</td>\n",
       "      <td>0.484</td>\n",
       "      <td>0.807</td>\n",
       "      <td>11</td>\n",
       "      <td>-5.386</td>\n",
       "      <td>1</td>\n",
       "      <td>0.0566</td>\n",
       "      <td>0.002990</td>\n",
       "      <td>0.000012</td>\n",
       "      <td>0.1070</td>\n",
       "      <td>0.253</td>\n",
       "      <td>120.223</td>\n",
       "      <td>180592</td>\n",
       "      <td>4</td>\n",
       "      <td>The Unknown</td>\n",
       "    </tr>\n",
       "  </tbody>\n",
       "</table>\n",
       "</div>"
      ],
      "text/plain": [
       "   level_0                   index  danceability  energy  key  loudness  mode  \\\n",
       "0        0  4kRDWcWcBlkcQNoWyWSkTg         0.498   0.949   11    -4.367     0   \n",
       "1        1  4cbmDY9GDPhipvX4kY9pRg         0.484   0.807   11    -5.386     1   \n",
       "\n",
       "   speechiness  acousticness  instrumentalness  liveness  valence    tempo  \\\n",
       "0       0.0575      0.000324          0.023200    0.0783    0.517   95.027   \n",
       "1       0.0566      0.002990          0.000012    0.1070    0.253  120.223   \n",
       "\n",
       "   duration_ms  time_signature    song_name  \n",
       "0       180691               3    The Shift  \n",
       "1       180592               4  The Unknown  "
      ]
     },
     "execution_count": 10,
     "metadata": {},
     "output_type": "execute_result"
    }
   ],
   "source": [
    "music.head(2)"
   ]
  },
  {
   "cell_type": "code",
   "execution_count": 6,
   "id": "f71086ee",
   "metadata": {},
   "outputs": [
    {
     "data": {
      "text/html": [
       "<div>\n",
       "<style scoped>\n",
       "    .dataframe tbody tr th:only-of-type {\n",
       "        vertical-align: middle;\n",
       "    }\n",
       "\n",
       "    .dataframe tbody tr th {\n",
       "        vertical-align: top;\n",
       "    }\n",
       "\n",
       "    .dataframe thead th {\n",
       "        text-align: right;\n",
       "    }\n",
       "</style>\n",
       "<table border=\"1\" class=\"dataframe\">\n",
       "  <thead>\n",
       "    <tr style=\"text-align: right;\">\n",
       "      <th></th>\n",
       "      <th>index</th>\n",
       "      <th>danceability</th>\n",
       "      <th>energy</th>\n",
       "      <th>key</th>\n",
       "      <th>loudness</th>\n",
       "      <th>mode</th>\n",
       "      <th>speechiness</th>\n",
       "      <th>acousticness</th>\n",
       "      <th>instrumentalness</th>\n",
       "      <th>liveness</th>\n",
       "      <th>valence</th>\n",
       "      <th>tempo</th>\n",
       "      <th>duration_ms</th>\n",
       "      <th>time_signature</th>\n",
       "      <th>song_name</th>\n",
       "    </tr>\n",
       "  </thead>\n",
       "  <tbody>\n",
       "    <tr>\n",
       "      <th>0</th>\n",
       "      <td>4kRDWcWcBlkcQNoWyWSkTg</td>\n",
       "      <td>0.498</td>\n",
       "      <td>0.949</td>\n",
       "      <td>11</td>\n",
       "      <td>-4.367</td>\n",
       "      <td>0</td>\n",
       "      <td>0.0575</td>\n",
       "      <td>0.000324</td>\n",
       "      <td>0.023200</td>\n",
       "      <td>0.0783</td>\n",
       "      <td>0.517</td>\n",
       "      <td>95.027</td>\n",
       "      <td>180691</td>\n",
       "      <td>3</td>\n",
       "      <td>The Shift</td>\n",
       "    </tr>\n",
       "    <tr>\n",
       "      <th>1</th>\n",
       "      <td>4cbmDY9GDPhipvX4kY9pRg</td>\n",
       "      <td>0.484</td>\n",
       "      <td>0.807</td>\n",
       "      <td>11</td>\n",
       "      <td>-5.386</td>\n",
       "      <td>1</td>\n",
       "      <td>0.0566</td>\n",
       "      <td>0.002990</td>\n",
       "      <td>0.000012</td>\n",
       "      <td>0.1070</td>\n",
       "      <td>0.253</td>\n",
       "      <td>120.223</td>\n",
       "      <td>180592</td>\n",
       "      <td>4</td>\n",
       "      <td>The Unknown</td>\n",
       "    </tr>\n",
       "    <tr>\n",
       "      <th>2</th>\n",
       "      <td>0eRQJmhphu5V6E5yKYpGRZ</td>\n",
       "      <td>0.295</td>\n",
       "      <td>0.911</td>\n",
       "      <td>4</td>\n",
       "      <td>-3.646</td>\n",
       "      <td>1</td>\n",
       "      <td>0.0961</td>\n",
       "      <td>0.000032</td>\n",
       "      <td>0.008090</td>\n",
       "      <td>0.2030</td>\n",
       "      <td>0.456</td>\n",
       "      <td>79.115</td>\n",
       "      <td>218934</td>\n",
       "      <td>4</td>\n",
       "      <td>Waiting</td>\n",
       "    </tr>\n",
       "    <tr>\n",
       "      <th>3</th>\n",
       "      <td>1qLhuyPkRwZzfJOkx6APMx</td>\n",
       "      <td>0.492</td>\n",
       "      <td>0.935</td>\n",
       "      <td>7</td>\n",
       "      <td>-5.436</td>\n",
       "      <td>1</td>\n",
       "      <td>0.0895</td>\n",
       "      <td>0.000275</td>\n",
       "      <td>0.022700</td>\n",
       "      <td>0.0896</td>\n",
       "      <td>0.603</td>\n",
       "      <td>172.010</td>\n",
       "      <td>159713</td>\n",
       "      <td>4</td>\n",
       "      <td>Deja Vu</td>\n",
       "    </tr>\n",
       "    <tr>\n",
       "      <th>4</th>\n",
       "      <td>67vEv74qFSiiCnYCX7HU4j</td>\n",
       "      <td>0.416</td>\n",
       "      <td>0.879</td>\n",
       "      <td>2</td>\n",
       "      <td>-4.892</td>\n",
       "      <td>1</td>\n",
       "      <td>0.0436</td>\n",
       "      <td>0.000068</td>\n",
       "      <td>0.004730</td>\n",
       "      <td>0.1230</td>\n",
       "      <td>0.401</td>\n",
       "      <td>154.927</td>\n",
       "      <td>210341</td>\n",
       "      <td>4</td>\n",
       "      <td>Without You</td>\n",
       "    </tr>\n",
       "  </tbody>\n",
       "</table>\n",
       "</div>"
      ],
      "text/plain": [
       "                    index  danceability  energy  key  loudness  mode  \\\n",
       "0  4kRDWcWcBlkcQNoWyWSkTg         0.498   0.949   11    -4.367     0   \n",
       "1  4cbmDY9GDPhipvX4kY9pRg         0.484   0.807   11    -5.386     1   \n",
       "2  0eRQJmhphu5V6E5yKYpGRZ         0.295   0.911    4    -3.646     1   \n",
       "3  1qLhuyPkRwZzfJOkx6APMx         0.492   0.935    7    -5.436     1   \n",
       "4  67vEv74qFSiiCnYCX7HU4j         0.416   0.879    2    -4.892     1   \n",
       "\n",
       "   speechiness  acousticness  instrumentalness  liveness  valence    tempo  \\\n",
       "0       0.0575      0.000324          0.023200    0.0783    0.517   95.027   \n",
       "1       0.0566      0.002990          0.000012    0.1070    0.253  120.223   \n",
       "2       0.0961      0.000032          0.008090    0.2030    0.456   79.115   \n",
       "3       0.0895      0.000275          0.022700    0.0896    0.603  172.010   \n",
       "4       0.0436      0.000068          0.004730    0.1230    0.401  154.927   \n",
       "\n",
       "   duration_ms  time_signature    song_name  \n",
       "0       180691               3    The Shift  \n",
       "1       180592               4  The Unknown  \n",
       "2       218934               4      Waiting  \n",
       "3       159713               4      Deja Vu  \n",
       "4       210341               4  Without You  "
      ]
     },
     "execution_count": 6,
     "metadata": {},
     "output_type": "execute_result"
    }
   ],
   "source": [
    "music.head()\n"
   ]
  },
  {
   "cell_type": "code",
   "execution_count": 7,
   "id": "74e376b8",
   "metadata": {},
   "outputs": [],
   "source": [
    "music_num = music.drop(['index','song_name'],axis=1)"
   ]
  },
  {
   "cell_type": "code",
   "execution_count": 19,
   "id": "2de92aee",
   "metadata": {},
   "outputs": [
    {
     "data": {
      "text/html": [
       "<div>\n",
       "<style scoped>\n",
       "    .dataframe tbody tr th:only-of-type {\n",
       "        vertical-align: middle;\n",
       "    }\n",
       "\n",
       "    .dataframe tbody tr th {\n",
       "        vertical-align: top;\n",
       "    }\n",
       "\n",
       "    .dataframe thead th {\n",
       "        text-align: right;\n",
       "    }\n",
       "</style>\n",
       "<table border=\"1\" class=\"dataframe\">\n",
       "  <thead>\n",
       "    <tr style=\"text-align: right;\">\n",
       "      <th></th>\n",
       "      <th>danceability</th>\n",
       "      <th>energy</th>\n",
       "      <th>key</th>\n",
       "      <th>loudness</th>\n",
       "      <th>mode</th>\n",
       "      <th>speechiness</th>\n",
       "      <th>acousticness</th>\n",
       "      <th>instrumentalness</th>\n",
       "      <th>liveness</th>\n",
       "      <th>valence</th>\n",
       "      <th>tempo</th>\n",
       "      <th>duration_ms</th>\n",
       "      <th>time_signature</th>\n",
       "    </tr>\n",
       "  </thead>\n",
       "  <tbody>\n",
       "    <tr>\n",
       "      <th>0</th>\n",
       "      <td>0.498</td>\n",
       "      <td>0.949</td>\n",
       "      <td>11</td>\n",
       "      <td>-4.367</td>\n",
       "      <td>0</td>\n",
       "      <td>0.0575</td>\n",
       "      <td>0.000324</td>\n",
       "      <td>0.023200</td>\n",
       "      <td>0.0783</td>\n",
       "      <td>0.517</td>\n",
       "      <td>95.027</td>\n",
       "      <td>180691</td>\n",
       "      <td>3</td>\n",
       "    </tr>\n",
       "    <tr>\n",
       "      <th>1</th>\n",
       "      <td>0.484</td>\n",
       "      <td>0.807</td>\n",
       "      <td>11</td>\n",
       "      <td>-5.386</td>\n",
       "      <td>1</td>\n",
       "      <td>0.0566</td>\n",
       "      <td>0.002990</td>\n",
       "      <td>0.000012</td>\n",
       "      <td>0.1070</td>\n",
       "      <td>0.253</td>\n",
       "      <td>120.223</td>\n",
       "      <td>180592</td>\n",
       "      <td>4</td>\n",
       "    </tr>\n",
       "    <tr>\n",
       "      <th>2</th>\n",
       "      <td>0.295</td>\n",
       "      <td>0.911</td>\n",
       "      <td>4</td>\n",
       "      <td>-3.646</td>\n",
       "      <td>1</td>\n",
       "      <td>0.0961</td>\n",
       "      <td>0.000032</td>\n",
       "      <td>0.008090</td>\n",
       "      <td>0.2030</td>\n",
       "      <td>0.456</td>\n",
       "      <td>79.115</td>\n",
       "      <td>218934</td>\n",
       "      <td>4</td>\n",
       "    </tr>\n",
       "    <tr>\n",
       "      <th>3</th>\n",
       "      <td>0.492</td>\n",
       "      <td>0.935</td>\n",
       "      <td>7</td>\n",
       "      <td>-5.436</td>\n",
       "      <td>1</td>\n",
       "      <td>0.0895</td>\n",
       "      <td>0.000275</td>\n",
       "      <td>0.022700</td>\n",
       "      <td>0.0896</td>\n",
       "      <td>0.603</td>\n",
       "      <td>172.010</td>\n",
       "      <td>159713</td>\n",
       "      <td>4</td>\n",
       "    </tr>\n",
       "    <tr>\n",
       "      <th>4</th>\n",
       "      <td>0.416</td>\n",
       "      <td>0.879</td>\n",
       "      <td>2</td>\n",
       "      <td>-4.892</td>\n",
       "      <td>1</td>\n",
       "      <td>0.0436</td>\n",
       "      <td>0.000068</td>\n",
       "      <td>0.004730</td>\n",
       "      <td>0.1230</td>\n",
       "      <td>0.401</td>\n",
       "      <td>154.927</td>\n",
       "      <td>210341</td>\n",
       "      <td>4</td>\n",
       "    </tr>\n",
       "    <tr>\n",
       "      <th>...</th>\n",
       "      <td>...</td>\n",
       "      <td>...</td>\n",
       "      <td>...</td>\n",
       "      <td>...</td>\n",
       "      <td>...</td>\n",
       "      <td>...</td>\n",
       "      <td>...</td>\n",
       "      <td>...</td>\n",
       "      <td>...</td>\n",
       "      <td>...</td>\n",
       "      <td>...</td>\n",
       "      <td>...</td>\n",
       "      <td>...</td>\n",
       "    </tr>\n",
       "    <tr>\n",
       "      <th>6827</th>\n",
       "      <td>0.854</td>\n",
       "      <td>0.663</td>\n",
       "      <td>1</td>\n",
       "      <td>-2.983</td>\n",
       "      <td>1</td>\n",
       "      <td>0.1160</td>\n",
       "      <td>0.112000</td>\n",
       "      <td>0.000000</td>\n",
       "      <td>0.2800</td>\n",
       "      <td>0.412</td>\n",
       "      <td>126.999</td>\n",
       "      <td>201137</td>\n",
       "      <td>4</td>\n",
       "    </tr>\n",
       "    <tr>\n",
       "      <th>6828</th>\n",
       "      <td>0.904</td>\n",
       "      <td>0.733</td>\n",
       "      <td>11</td>\n",
       "      <td>-7.036</td>\n",
       "      <td>0</td>\n",
       "      <td>0.3010</td>\n",
       "      <td>0.095100</td>\n",
       "      <td>0.000000</td>\n",
       "      <td>0.1360</td>\n",
       "      <td>0.519</td>\n",
       "      <td>145.012</td>\n",
       "      <td>184040</td>\n",
       "      <td>4</td>\n",
       "    </tr>\n",
       "    <tr>\n",
       "      <th>6829</th>\n",
       "      <td>0.919</td>\n",
       "      <td>0.734</td>\n",
       "      <td>11</td>\n",
       "      <td>-7.251</td>\n",
       "      <td>0</td>\n",
       "      <td>0.2470</td>\n",
       "      <td>0.059700</td>\n",
       "      <td>0.000000</td>\n",
       "      <td>0.1350</td>\n",
       "      <td>0.500</td>\n",
       "      <td>145.025</td>\n",
       "      <td>184067</td>\n",
       "      <td>4</td>\n",
       "    </tr>\n",
       "    <tr>\n",
       "      <th>6830</th>\n",
       "      <td>0.841</td>\n",
       "      <td>0.512</td>\n",
       "      <td>0</td>\n",
       "      <td>-4.550</td>\n",
       "      <td>0</td>\n",
       "      <td>0.2760</td>\n",
       "      <td>0.047000</td>\n",
       "      <td>0.000000</td>\n",
       "      <td>0.1280</td>\n",
       "      <td>0.129</td>\n",
       "      <td>140.042</td>\n",
       "      <td>155193</td>\n",
       "      <td>4</td>\n",
       "    </tr>\n",
       "    <tr>\n",
       "      <th>6831</th>\n",
       "      <td>0.931</td>\n",
       "      <td>0.598</td>\n",
       "      <td>2</td>\n",
       "      <td>-6.309</td>\n",
       "      <td>1</td>\n",
       "      <td>0.4330</td>\n",
       "      <td>0.054100</td>\n",
       "      <td>0.000000</td>\n",
       "      <td>0.1030</td>\n",
       "      <td>0.475</td>\n",
       "      <td>139.944</td>\n",
       "      <td>137293</td>\n",
       "      <td>4</td>\n",
       "    </tr>\n",
       "  </tbody>\n",
       "</table>\n",
       "<p>6832 rows × 13 columns</p>\n",
       "</div>"
      ],
      "text/plain": [
       "      danceability  energy  key  loudness  mode  speechiness  acousticness  \\\n",
       "0            0.498   0.949   11    -4.367     0       0.0575      0.000324   \n",
       "1            0.484   0.807   11    -5.386     1       0.0566      0.002990   \n",
       "2            0.295   0.911    4    -3.646     1       0.0961      0.000032   \n",
       "3            0.492   0.935    7    -5.436     1       0.0895      0.000275   \n",
       "4            0.416   0.879    2    -4.892     1       0.0436      0.000068   \n",
       "...            ...     ...  ...       ...   ...          ...           ...   \n",
       "6827         0.854   0.663    1    -2.983     1       0.1160      0.112000   \n",
       "6828         0.904   0.733   11    -7.036     0       0.3010      0.095100   \n",
       "6829         0.919   0.734   11    -7.251     0       0.2470      0.059700   \n",
       "6830         0.841   0.512    0    -4.550     0       0.2760      0.047000   \n",
       "6831         0.931   0.598    2    -6.309     1       0.4330      0.054100   \n",
       "\n",
       "      instrumentalness  liveness  valence    tempo  duration_ms  \\\n",
       "0             0.023200    0.0783    0.517   95.027       180691   \n",
       "1             0.000012    0.1070    0.253  120.223       180592   \n",
       "2             0.008090    0.2030    0.456   79.115       218934   \n",
       "3             0.022700    0.0896    0.603  172.010       159713   \n",
       "4             0.004730    0.1230    0.401  154.927       210341   \n",
       "...                ...       ...      ...      ...          ...   \n",
       "6827          0.000000    0.2800    0.412  126.999       201137   \n",
       "6828          0.000000    0.1360    0.519  145.012       184040   \n",
       "6829          0.000000    0.1350    0.500  145.025       184067   \n",
       "6830          0.000000    0.1280    0.129  140.042       155193   \n",
       "6831          0.000000    0.1030    0.475  139.944       137293   \n",
       "\n",
       "      time_signature  \n",
       "0                  3  \n",
       "1                  4  \n",
       "2                  4  \n",
       "3                  4  \n",
       "4                  4  \n",
       "...              ...  \n",
       "6827               4  \n",
       "6828               4  \n",
       "6829               4  \n",
       "6830               4  \n",
       "6831               4  \n",
       "\n",
       "[6832 rows x 13 columns]"
      ]
     },
     "execution_count": 19,
     "metadata": {},
     "output_type": "execute_result"
    }
   ],
   "source": [
    "music_num"
   ]
  },
  {
   "cell_type": "code",
   "execution_count": 8,
   "id": "39cd7413",
   "metadata": {},
   "outputs": [],
   "source": [
    "X_prep = StandardScaler().fit_transform(music_num)"
   ]
  },
  {
   "cell_type": "code",
   "execution_count": 21,
   "id": "cf5e6c83",
   "metadata": {},
   "outputs": [
    {
     "data": {
      "text/html": [
       "<div>\n",
       "<style scoped>\n",
       "    .dataframe tbody tr th:only-of-type {\n",
       "        vertical-align: middle;\n",
       "    }\n",
       "\n",
       "    .dataframe tbody tr th {\n",
       "        vertical-align: top;\n",
       "    }\n",
       "\n",
       "    .dataframe thead th {\n",
       "        text-align: right;\n",
       "    }\n",
       "</style>\n",
       "<table border=\"1\" class=\"dataframe\">\n",
       "  <thead>\n",
       "    <tr style=\"text-align: right;\">\n",
       "      <th></th>\n",
       "      <th>0</th>\n",
       "      <th>1</th>\n",
       "      <th>2</th>\n",
       "      <th>3</th>\n",
       "      <th>4</th>\n",
       "      <th>5</th>\n",
       "      <th>6</th>\n",
       "      <th>7</th>\n",
       "      <th>8</th>\n",
       "      <th>9</th>\n",
       "      <th>10</th>\n",
       "      <th>11</th>\n",
       "      <th>12</th>\n",
       "    </tr>\n",
       "  </thead>\n",
       "  <tbody>\n",
       "    <tr>\n",
       "      <th>0</th>\n",
       "      <td>-0.008421</td>\n",
       "      <td>0.653746</td>\n",
       "      <td>1.618534</td>\n",
       "      <td>0.411740</td>\n",
       "      <td>-1.545603</td>\n",
       "      <td>-0.438367</td>\n",
       "      <td>-0.434230</td>\n",
       "      <td>-0.257460</td>\n",
       "      <td>-0.803059</td>\n",
       "      <td>0.382195</td>\n",
       "      <td>-1.018850</td>\n",
       "      <td>-0.458967</td>\n",
       "      <td>-2.135794</td>\n",
       "    </tr>\n",
       "    <tr>\n",
       "      <th>1</th>\n",
       "      <td>-0.089034</td>\n",
       "      <td>-0.080272</td>\n",
       "      <td>1.618534</td>\n",
       "      <td>0.122676</td>\n",
       "      <td>0.646997</td>\n",
       "      <td>-0.445725</td>\n",
       "      <td>-0.420353</td>\n",
       "      <td>-0.368118</td>\n",
       "      <td>-0.649182</td>\n",
       "      <td>-0.753636</td>\n",
       "      <td>-0.238134</td>\n",
       "      <td>-0.460248</td>\n",
       "      <td>0.207132</td>\n",
       "    </tr>\n",
       "    <tr>\n",
       "      <th>2</th>\n",
       "      <td>-1.177315</td>\n",
       "      <td>0.457319</td>\n",
       "      <td>-0.304853</td>\n",
       "      <td>0.616269</td>\n",
       "      <td>0.646997</td>\n",
       "      <td>-0.122814</td>\n",
       "      <td>-0.435749</td>\n",
       "      <td>-0.329568</td>\n",
       "      <td>-0.134471</td>\n",
       "      <td>0.119749</td>\n",
       "      <td>-1.511894</td>\n",
       "      <td>0.035723</td>\n",
       "      <td>0.207132</td>\n",
       "    </tr>\n",
       "    <tr>\n",
       "      <th>3</th>\n",
       "      <td>-0.042970</td>\n",
       "      <td>0.581378</td>\n",
       "      <td>0.519456</td>\n",
       "      <td>0.108492</td>\n",
       "      <td>0.646997</td>\n",
       "      <td>-0.176768</td>\n",
       "      <td>-0.434485</td>\n",
       "      <td>-0.259846</td>\n",
       "      <td>-0.742473</td>\n",
       "      <td>0.752200</td>\n",
       "      <td>1.366522</td>\n",
       "      <td>-0.730327</td>\n",
       "      <td>0.207132</td>\n",
       "    </tr>\n",
       "    <tr>\n",
       "      <th>4</th>\n",
       "      <td>-0.480585</td>\n",
       "      <td>0.291906</td>\n",
       "      <td>-0.854392</td>\n",
       "      <td>0.262811</td>\n",
       "      <td>0.646997</td>\n",
       "      <td>-0.551999</td>\n",
       "      <td>-0.435563</td>\n",
       "      <td>-0.345602</td>\n",
       "      <td>-0.563397</td>\n",
       "      <td>-0.116882</td>\n",
       "      <td>0.837193</td>\n",
       "      <td>-0.075432</td>\n",
       "      <td>0.207132</td>\n",
       "    </tr>\n",
       "  </tbody>\n",
       "</table>\n",
       "</div>"
      ],
      "text/plain": [
       "         0         1         2         3         4         5         6   \\\n",
       "0 -0.008421  0.653746  1.618534  0.411740 -1.545603 -0.438367 -0.434230   \n",
       "1 -0.089034 -0.080272  1.618534  0.122676  0.646997 -0.445725 -0.420353   \n",
       "2 -1.177315  0.457319 -0.304853  0.616269  0.646997 -0.122814 -0.435749   \n",
       "3 -0.042970  0.581378  0.519456  0.108492  0.646997 -0.176768 -0.434485   \n",
       "4 -0.480585  0.291906 -0.854392  0.262811  0.646997 -0.551999 -0.435563   \n",
       "\n",
       "         7         8         9         10        11        12  \n",
       "0 -0.257460 -0.803059  0.382195 -1.018850 -0.458967 -2.135794  \n",
       "1 -0.368118 -0.649182 -0.753636 -0.238134 -0.460248  0.207132  \n",
       "2 -0.329568 -0.134471  0.119749 -1.511894  0.035723  0.207132  \n",
       "3 -0.259846 -0.742473  0.752200  1.366522 -0.730327  0.207132  \n",
       "4 -0.345602 -0.563397 -0.116882  0.837193 -0.075432  0.207132  "
      ]
     },
     "execution_count": 21,
     "metadata": {},
     "output_type": "execute_result"
    }
   ],
   "source": [
    "pd.DataFrame(X_prep).head()"
   ]
  },
  {
   "cell_type": "code",
   "execution_count": 23,
   "id": "3ecc8b43",
   "metadata": {},
   "outputs": [
    {
     "data": {
      "text/plain": [
       "Text(0.5, 1.0, 'Elbow Method showing the optimal k')"
      ]
     },
     "execution_count": 23,
     "metadata": {},
     "output_type": "execute_result"
    },
    {
     "data": {
      "image/png": "[encoded data removed]",
      "text/plain": [
       "<Figure size 1152x576 with 1 Axes>"
      ]
     },
     "metadata": {
      "needs_background": "light"
     },
     "output_type": "display_data"
    }
   ],
   "source": [
    "import numpy as np\n",
    "K = range(2, 15)\n",
    "inertia = []\n",
    "\n",
    "for k in K:\n",
    "    kmeans = KMeans(n_clusters=k,\n",
    "                    random_state=1234)\n",
    "    kmeans.fit(X_prep)\n",
    "    inertia.append(kmeans.inertia_)\n",
    "\n",
    "import matplotlib.pyplot as plt\n",
    "%matplotlib inline\n",
    "\n",
    "plt.figure(figsize=(16,8))\n",
    "plt.plot(K, inertia, marker = '*')\n",
    "plt.xlabel('k')\n",
    "plt.ylabel('inertia')\n",
    "plt.xticks(np.arange(min(K), max(K)+1, 1.0))\n",
    "plt.title('Elbow Method showing the optimal k')"
   ]
  },
  {
   "cell_type": "code",
   "execution_count": 25,
   "id": "c0725a75",
   "metadata": {},
   "outputs": [
    {
     "data": {
      "text/plain": [
       "Text(0.5, 1.0, 'Silhouette Method showing the optimal k')"
      ]
     },
     "execution_count": 25,
     "metadata": {},
     "output_type": "execute_result"
    },
    {
     "data": {
      "image/png": "[encoded data removed]",
      "text/plain": [
       "<Figure size 1152x576 with 1 Axes>"
      ]
     },
     "metadata": {
      "needs_background": "light"
     },
     "output_type": "display_data"
    }
   ],
   "source": [
    "from sklearn.metrics import silhouette_score\n",
    "K = range(2, 20)\n",
    "silhouette = []\n",
    "\n",
    "for k in K:\n",
    "    kmeans = KMeans(n_clusters=k,\n",
    "                    random_state=1234)\n",
    "    kmeans.fit(X_prep)\n",
    "    silhouette.append(silhouette_score(X_prep, kmeans.predict(X_prep)))\n",
    "\n",
    "\n",
    "plt.figure(figsize=(16,8))\n",
    "plt.plot(K, silhouette, 'bx-')\n",
    "plt.xlabel('k')\n",
    "plt.ylabel('silhouette score')\n",
    "plt.xticks(np.arange(min(K), max(K)+1, 1.0))\n",
    "plt.title('Silhouette Method showing the optimal k')"
   ]
  },
  {
   "cell_type": "code",
   "execution_count": 9,
   "id": "a52ac6ad",
   "metadata": {},
   "outputs": [],
   "source": [
    "k=8\n",
    "kmeans = KMeans(n_clusters=k, random_state=1234)\n",
    "kmeans.fit(X_prep)\n",
    "clusters=kmeans.predict(X_prep)"
   ]
  },
  {
   "cell_type": "code",
   "execution_count": 10,
   "id": "666f5c8a",
   "metadata": {},
   "outputs": [],
   "source": [
    "music_num['clusters']=clusters"
   ]
  },
  {
   "cell_type": "code",
   "execution_count": 11,
   "id": "f97f81ca",
   "metadata": {},
   "outputs": [],
   "source": [
    "music['clusters']=clusters"
   ]
  },
  {
   "cell_type": "code",
   "execution_count": 27,
   "id": "584e5453",
   "metadata": {},
   "outputs": [
    {
     "data": {
      "text/plain": [
       "4    2695\n",
       "0    1335\n",
       "1    1243\n",
       "5     506\n",
       "2     447\n",
       "3     447\n",
       "7     100\n",
       "6      59\n",
       "Name: clusters, dtype: int64"
      ]
     },
     "execution_count": 27,
     "metadata": {},
     "output_type": "execute_result"
    }
   ],
   "source": [
    "music_num['clusters'].value_counts()"
   ]
  },
  {
   "cell_type": "code",
   "execution_count": 28,
   "id": "d8fe48ba",
   "metadata": {},
   "outputs": [],
   "source": [
    "cluster_0=music_num[music_num['clusters']==0]"
   ]
  },
  {
   "cell_type": "code",
   "execution_count": 29,
   "id": "2b095d07",
   "metadata": {},
   "outputs": [
    {
     "data": {
      "text/plain": [
       "(1335, 14)"
      ]
     },
     "execution_count": 29,
     "metadata": {},
     "output_type": "execute_result"
    }
   ],
   "source": [
    "cluster_0.shape"
   ]
  },
  {
   "cell_type": "code",
   "execution_count": 30,
   "id": "c7e198f3",
   "metadata": {},
   "outputs": [],
   "source": [
    "cluster_0=cluster_0.drop('clusters',axis=1)"
   ]
  },
  {
   "cell_type": "code",
   "execution_count": 49,
   "id": "da275b6f",
   "metadata": {},
   "outputs": [],
   "source": [
    "avgc0 = np.mean(cluster_0)"
   ]
  },
  {
   "cell_type": "code",
   "execution_count": 50,
   "id": "313a8f53",
   "metadata": {},
   "outputs": [],
   "source": [
    "cluster_1=music_num[music_num['clusters']==1]"
   ]
  },
  {
   "cell_type": "code",
   "execution_count": 51,
   "id": "2488dd34",
   "metadata": {},
   "outputs": [],
   "source": [
    "cluster_1=cluster_1.drop('clusters',axis=1)"
   ]
  },
  {
   "cell_type": "code",
   "execution_count": 52,
   "id": "31ec0e09",
   "metadata": {},
   "outputs": [],
   "source": [
    "avgc1 = np.mean(cluster_1)"
   ]
  },
  {
   "cell_type": "code",
   "execution_count": 53,
   "id": "c30789e8",
   "metadata": {},
   "outputs": [],
   "source": [
    "cluster_2=music_num[music_num['clusters']==2]"
   ]
  },
  {
   "cell_type": "code",
   "execution_count": 54,
   "id": "531481c1",
   "metadata": {},
   "outputs": [],
   "source": [
    "cluster_2=cluster_2.drop('clusters',axis=1)"
   ]
  },
  {
   "cell_type": "code",
   "execution_count": 55,
   "id": "d79253d2",
   "metadata": {},
   "outputs": [],
   "source": [
    "avgc2 = np.mean(cluster_2)"
   ]
  },
  {
   "cell_type": "code",
   "execution_count": 56,
   "id": "11d16ae8",
   "metadata": {},
   "outputs": [],
   "source": [
    "cluster_3=music_num[music_num['clusters']==3]"
   ]
  },
  {
   "cell_type": "code",
   "execution_count": 57,
   "id": "b3f714e9",
   "metadata": {},
   "outputs": [],
   "source": [
    "cluster_3=cluster_3.drop('clusters',axis=1)"
   ]
  },
  {
   "cell_type": "code",
   "execution_count": 58,
   "id": "f9d8a572",
   "metadata": {},
   "outputs": [],
   "source": [
    "avgc3 = np.mean(cluster_3)"
   ]
  },
  {
   "cell_type": "code",
   "execution_count": 59,
   "id": "0e7235e6",
   "metadata": {},
   "outputs": [],
   "source": [
    "cluster_4=music_num[music_num['clusters']==4]"
   ]
  },
  {
   "cell_type": "code",
   "execution_count": 60,
   "id": "8bd99dec",
   "metadata": {},
   "outputs": [],
   "source": [
    "cluster_4=cluster_4.drop('clusters',axis=1)"
   ]
  },
  {
   "cell_type": "code",
   "execution_count": 61,
   "id": "7cf7551b",
   "metadata": {},
   "outputs": [],
   "source": [
    "avgc4 = np.mean(cluster_4)"
   ]
  },
  {
   "cell_type": "code",
   "execution_count": 62,
   "id": "8146a48e",
   "metadata": {},
   "outputs": [],
   "source": [
    "cluster_5=music_num[music_num['clusters']==5]"
   ]
  },
  {
   "cell_type": "code",
   "execution_count": 63,
   "id": "e340473e",
   "metadata": {},
   "outputs": [],
   "source": [
    "cluster_5=cluster_5.drop('clusters',axis=1)"
   ]
  },
  {
   "cell_type": "code",
   "execution_count": 64,
   "id": "0c6ea989",
   "metadata": {},
   "outputs": [],
   "source": [
    "avgc5 = np.mean(cluster_5)"
   ]
  },
  {
   "cell_type": "code",
   "execution_count": 65,
   "id": "c3362ab0",
   "metadata": {},
   "outputs": [],
   "source": [
    "cluster_6=music_num[music_num['clusters']==6]"
   ]
  },
  {
   "cell_type": "code",
   "execution_count": 66,
   "id": "c7bb4099",
   "metadata": {},
   "outputs": [],
   "source": [
    "cluster_6=cluster_6.drop('clusters',axis=1)"
   ]
  },
  {
   "cell_type": "code",
   "execution_count": 67,
   "id": "cb259db7",
   "metadata": {},
   "outputs": [],
   "source": [
    "avgc6 = np.mean(cluster_6)"
   ]
  },
  {
   "cell_type": "code",
   "execution_count": 68,
   "id": "59b68e45",
   "metadata": {},
   "outputs": [],
   "source": [
    "cluster_7=music_num[music_num['clusters']==7]"
   ]
  },
  {
   "cell_type": "code",
   "execution_count": 69,
   "id": "d78db23b",
   "metadata": {},
   "outputs": [],
   "source": [
    "cluster_7=cluster_7.drop('clusters',axis=1)"
   ]
  },
  {
   "cell_type": "code",
   "execution_count": 70,
   "id": "38bc2af8",
   "metadata": {},
   "outputs": [],
   "source": [
    "avgc7 = np.mean(cluster_7)"
   ]
  },
  {
   "cell_type": "code",
   "execution_count": 40,
   "id": "7605bf45",
   "metadata": {},
   "outputs": [
    {
     "data": {
      "text/html": [
       "<div>\n",
       "<style scoped>\n",
       "    .dataframe tbody tr th:only-of-type {\n",
       "        vertical-align: middle;\n",
       "    }\n",
       "\n",
       "    .dataframe tbody tr th {\n",
       "        vertical-align: top;\n",
       "    }\n",
       "\n",
       "    .dataframe thead th {\n",
       "        text-align: right;\n",
       "    }\n",
       "</style>\n",
       "<table border=\"1\" class=\"dataframe\">\n",
       "  <thead>\n",
       "    <tr style=\"text-align: right;\">\n",
       "      <th></th>\n",
       "      <th>danceability</th>\n",
       "      <th>energy</th>\n",
       "      <th>key</th>\n",
       "      <th>loudness</th>\n",
       "      <th>mode</th>\n",
       "      <th>speechiness</th>\n",
       "      <th>acousticness</th>\n",
       "      <th>instrumentalness</th>\n",
       "      <th>liveness</th>\n",
       "      <th>valence</th>\n",
       "      <th>tempo</th>\n",
       "      <th>duration_ms</th>\n",
       "      <th>time_signature</th>\n",
       "      <th>clusters</th>\n",
       "    </tr>\n",
       "  </thead>\n",
       "  <tbody>\n",
       "    <tr>\n",
       "      <th>0</th>\n",
       "      <td>0.498</td>\n",
       "      <td>0.949</td>\n",
       "      <td>11</td>\n",
       "      <td>-4.367</td>\n",
       "      <td>0</td>\n",
       "      <td>0.0575</td>\n",
       "      <td>0.000324</td>\n",
       "      <td>0.023200</td>\n",
       "      <td>0.0783</td>\n",
       "      <td>0.517</td>\n",
       "      <td>95.027</td>\n",
       "      <td>180691</td>\n",
       "      <td>3</td>\n",
       "      <td>1</td>\n",
       "    </tr>\n",
       "    <tr>\n",
       "      <th>1</th>\n",
       "      <td>0.484</td>\n",
       "      <td>0.807</td>\n",
       "      <td>11</td>\n",
       "      <td>-5.386</td>\n",
       "      <td>1</td>\n",
       "      <td>0.0566</td>\n",
       "      <td>0.002990</td>\n",
       "      <td>0.000012</td>\n",
       "      <td>0.1070</td>\n",
       "      <td>0.253</td>\n",
       "      <td>120.223</td>\n",
       "      <td>180592</td>\n",
       "      <td>4</td>\n",
       "      <td>4</td>\n",
       "    </tr>\n",
       "    <tr>\n",
       "      <th>2</th>\n",
       "      <td>0.295</td>\n",
       "      <td>0.911</td>\n",
       "      <td>4</td>\n",
       "      <td>-3.646</td>\n",
       "      <td>1</td>\n",
       "      <td>0.0961</td>\n",
       "      <td>0.000032</td>\n",
       "      <td>0.008090</td>\n",
       "      <td>0.2030</td>\n",
       "      <td>0.456</td>\n",
       "      <td>79.115</td>\n",
       "      <td>218934</td>\n",
       "      <td>4</td>\n",
       "      <td>4</td>\n",
       "    </tr>\n",
       "    <tr>\n",
       "      <th>3</th>\n",
       "      <td>0.492</td>\n",
       "      <td>0.935</td>\n",
       "      <td>7</td>\n",
       "      <td>-5.436</td>\n",
       "      <td>1</td>\n",
       "      <td>0.0895</td>\n",
       "      <td>0.000275</td>\n",
       "      <td>0.022700</td>\n",
       "      <td>0.0896</td>\n",
       "      <td>0.603</td>\n",
       "      <td>172.010</td>\n",
       "      <td>159713</td>\n",
       "      <td>4</td>\n",
       "      <td>4</td>\n",
       "    </tr>\n",
       "    <tr>\n",
       "      <th>4</th>\n",
       "      <td>0.416</td>\n",
       "      <td>0.879</td>\n",
       "      <td>2</td>\n",
       "      <td>-4.892</td>\n",
       "      <td>1</td>\n",
       "      <td>0.0436</td>\n",
       "      <td>0.000068</td>\n",
       "      <td>0.004730</td>\n",
       "      <td>0.1230</td>\n",
       "      <td>0.401</td>\n",
       "      <td>154.927</td>\n",
       "      <td>210341</td>\n",
       "      <td>4</td>\n",
       "      <td>4</td>\n",
       "    </tr>\n",
       "    <tr>\n",
       "      <th>...</th>\n",
       "      <td>...</td>\n",
       "      <td>...</td>\n",
       "      <td>...</td>\n",
       "      <td>...</td>\n",
       "      <td>...</td>\n",
       "      <td>...</td>\n",
       "      <td>...</td>\n",
       "      <td>...</td>\n",
       "      <td>...</td>\n",
       "      <td>...</td>\n",
       "      <td>...</td>\n",
       "      <td>...</td>\n",
       "      <td>...</td>\n",
       "      <td>...</td>\n",
       "    </tr>\n",
       "    <tr>\n",
       "      <th>6827</th>\n",
       "      <td>0.854</td>\n",
       "      <td>0.663</td>\n",
       "      <td>1</td>\n",
       "      <td>-2.983</td>\n",
       "      <td>1</td>\n",
       "      <td>0.1160</td>\n",
       "      <td>0.112000</td>\n",
       "      <td>0.000000</td>\n",
       "      <td>0.2800</td>\n",
       "      <td>0.412</td>\n",
       "      <td>126.999</td>\n",
       "      <td>201137</td>\n",
       "      <td>4</td>\n",
       "      <td>0</td>\n",
       "    </tr>\n",
       "    <tr>\n",
       "      <th>6828</th>\n",
       "      <td>0.904</td>\n",
       "      <td>0.733</td>\n",
       "      <td>11</td>\n",
       "      <td>-7.036</td>\n",
       "      <td>0</td>\n",
       "      <td>0.3010</td>\n",
       "      <td>0.095100</td>\n",
       "      <td>0.000000</td>\n",
       "      <td>0.1360</td>\n",
       "      <td>0.519</td>\n",
       "      <td>145.012</td>\n",
       "      <td>184040</td>\n",
       "      <td>4</td>\n",
       "      <td>0</td>\n",
       "    </tr>\n",
       "    <tr>\n",
       "      <th>6829</th>\n",
       "      <td>0.919</td>\n",
       "      <td>0.734</td>\n",
       "      <td>11</td>\n",
       "      <td>-7.251</td>\n",
       "      <td>0</td>\n",
       "      <td>0.2470</td>\n",
       "      <td>0.059700</td>\n",
       "      <td>0.000000</td>\n",
       "      <td>0.1350</td>\n",
       "      <td>0.500</td>\n",
       "      <td>145.025</td>\n",
       "      <td>184067</td>\n",
       "      <td>4</td>\n",
       "      <td>0</td>\n",
       "    </tr>\n",
       "    <tr>\n",
       "      <th>6830</th>\n",
       "      <td>0.841</td>\n",
       "      <td>0.512</td>\n",
       "      <td>0</td>\n",
       "      <td>-4.550</td>\n",
       "      <td>0</td>\n",
       "      <td>0.2760</td>\n",
       "      <td>0.047000</td>\n",
       "      <td>0.000000</td>\n",
       "      <td>0.1280</td>\n",
       "      <td>0.129</td>\n",
       "      <td>140.042</td>\n",
       "      <td>155193</td>\n",
       "      <td>4</td>\n",
       "      <td>0</td>\n",
       "    </tr>\n",
       "    <tr>\n",
       "      <th>6831</th>\n",
       "      <td>0.931</td>\n",
       "      <td>0.598</td>\n",
       "      <td>2</td>\n",
       "      <td>-6.309</td>\n",
       "      <td>1</td>\n",
       "      <td>0.4330</td>\n",
       "      <td>0.054100</td>\n",
       "      <td>0.000000</td>\n",
       "      <td>0.1030</td>\n",
       "      <td>0.475</td>\n",
       "      <td>139.944</td>\n",
       "      <td>137293</td>\n",
       "      <td>4</td>\n",
       "      <td>0</td>\n",
       "    </tr>\n",
       "  </tbody>\n",
       "</table>\n",
       "<p>6832 rows × 14 columns</p>\n",
       "</div>"
      ],
      "text/plain": [
       "      danceability  energy  key  loudness  mode  speechiness  acousticness  \\\n",
       "0            0.498   0.949   11    -4.367     0       0.0575      0.000324   \n",
       "1            0.484   0.807   11    -5.386     1       0.0566      0.002990   \n",
       "2            0.295   0.911    4    -3.646     1       0.0961      0.000032   \n",
       "3            0.492   0.935    7    -5.436     1       0.0895      0.000275   \n",
       "4            0.416   0.879    2    -4.892     1       0.0436      0.000068   \n",
       "...            ...     ...  ...       ...   ...          ...           ...   \n",
       "6827         0.854   0.663    1    -2.983     1       0.1160      0.112000   \n",
       "6828         0.904   0.733   11    -7.036     0       0.3010      0.095100   \n",
       "6829         0.919   0.734   11    -7.251     0       0.2470      0.059700   \n",
       "6830         0.841   0.512    0    -4.550     0       0.2760      0.047000   \n",
       "6831         0.931   0.598    2    -6.309     1       0.4330      0.054100   \n",
       "\n",
       "      instrumentalness  liveness  valence    tempo  duration_ms  \\\n",
       "0             0.023200    0.0783    0.517   95.027       180691   \n",
       "1             0.000012    0.1070    0.253  120.223       180592   \n",
       "2             0.008090    0.2030    0.456   79.115       218934   \n",
       "3             0.022700    0.0896    0.603  172.010       159713   \n",
       "4             0.004730    0.1230    0.401  154.927       210341   \n",
       "...                ...       ...      ...      ...          ...   \n",
       "6827          0.000000    0.2800    0.412  126.999       201137   \n",
       "6828          0.000000    0.1360    0.519  145.012       184040   \n",
       "6829          0.000000    0.1350    0.500  145.025       184067   \n",
       "6830          0.000000    0.1280    0.129  140.042       155193   \n",
       "6831          0.000000    0.1030    0.475  139.944       137293   \n",
       "\n",
       "      time_signature  clusters  \n",
       "0                  3         1  \n",
       "1                  4         4  \n",
       "2                  4         4  \n",
       "3                  4         4  \n",
       "4                  4         4  \n",
       "...              ...       ...  \n",
       "6827               4         0  \n",
       "6828               4         0  \n",
       "6829               4         0  \n",
       "6830               4         0  \n",
       "6831               4         0  \n",
       "\n",
       "[6832 rows x 14 columns]"
      ]
     },
     "execution_count": 40,
     "metadata": {},
     "output_type": "execute_result"
    }
   ],
   "source": [
    "music_num"
   ]
  },
  {
   "cell_type": "code",
   "execution_count": 69,
   "id": "9bf88a27",
   "metadata": {},
   "outputs": [
    {
     "data": {
      "text/plain": [
       "danceability             0.723742\n",
       "energy                   0.725322\n",
       "key                      5.318352\n",
       "loudness                -6.025884\n",
       "mode                     0.788015\n",
       "speechiness              0.119677\n",
       "acousticness             0.097722\n",
       "instrumentalness         0.007277\n",
       "liveness                 0.157653\n",
       "valence                  0.636385\n",
       "tempo                  118.931414\n",
       "duration_ms         203139.286142\n",
       "time_signature           3.991011\n",
       "clusters                 0.000000\n",
       "dtype: float64"
      ]
     },
     "execution_count": 69,
     "metadata": {},
     "output_type": "execute_result"
    }
   ],
   "source": [
    "avgc0"
   ]
  },
  {
   "cell_type": "code",
   "execution_count": 68,
   "id": "ef84be4f",
   "metadata": {},
   "outputs": [
    {
     "data": {
      "text/plain": [
       "3.9910112359550562"
      ]
     },
     "execution_count": 68,
     "metadata": {},
     "output_type": "execute_result"
    }
   ],
   "source": [
    "avgc0[12]"
   ]
  },
  {
   "cell_type": "code",
   "execution_count": 81,
   "id": "6d93e99b",
   "metadata": {},
   "outputs": [
    {
     "data": {
      "text/plain": [
       "3"
      ]
     },
     "execution_count": 81,
     "metadata": {},
     "output_type": "execute_result"
    }
   ],
   "source": [
    "music_num['clusters'][111]"
   ]
  },
  {
   "cell_type": "code",
   "execution_count": 79,
   "id": "dd3fb386",
   "metadata": {},
   "outputs": [
    {
     "name": "stdout",
     "output_type": "stream",
     "text": [
      "Enter a song you would like to hear:Somebody told me\n"
     ]
    }
   ],
   "source": [
    "new_song = input('Enter a song you would like to hear:')\n",
    "\n",
    "for i in range(len(music_num)):\n",
    "    if(new_song.lower() ==music[i].lower()):\n",
    "        cluster_num = music_num['clusters'][i]\n",
    "        song_cluster = music_num[music_num['clusters']==cluster_num]\n",
    "        return random_sample(song_cluster[i])\n",
    "    else:\n",
    "        song_search=sp.search(new_song, limit=10, offset=0, type='track', market=None)\n",
    "        song_deets=[]\n",
    "        final_list={}\n",
    "        song_feats=sp.audio_features(tracks=song_search['tracks']['items'][0]['id'])\n",
    "        #may be a little mix in going from track id to securing audio features\n",
    "        songdeets=song_feats[0]\n",
    "        final_list = songdeets"
   ]
  },
  {
   "cell_type": "code",
   "execution_count": null,
   "id": "5fc4d6cf",
   "metadata": {},
   "outputs": [],
   "source": [
    "song_deets=[]\n",
    "    final_list={}\n",
    "    n=0\n",
    "    for i in song_id_list:\n",
    "        songdeets=sp.audio_features(tracks=i)[0]\n",
    "        songdeets['song_name']=song_list[n]\n",
    "        final_list[i] = songdeets"
   ]
  },
  {
   "cell_type": "code",
   "execution_count": null,
   "id": "d0a5e0d7",
   "metadata": {},
   "outputs": [],
   "source": []
  },
  {
   "cell_type": "code",
   "execution_count": 82,
   "id": "4c52bcc9",
   "metadata": {},
   "outputs": [
    {
     "data": {
      "text/plain": [
       "6832"
      ]
     },
     "execution_count": 82,
     "metadata": {},
     "output_type": "execute_result"
    }
   ],
   "source": [
    "len(music_num)"
   ]
  },
  {
   "cell_type": "code",
   "execution_count": 90,
   "id": "3ca7969f",
   "metadata": {},
   "outputs": [],
   "source": [
    "try1=sp.search('Somebody told me', limit=10, offset=0, type='track', market=None)"
   ]
  },
  {
   "cell_type": "code",
   "execution_count": 91,
   "id": "a51eb861",
   "metadata": {},
   "outputs": [
    {
     "data": {
      "text/plain": [
       "dict_keys(['tracks'])"
      ]
     },
     "execution_count": 91,
     "metadata": {},
     "output_type": "execute_result"
    }
   ],
   "source": [
    "try1.keys()"
   ]
  },
  {
   "cell_type": "code",
   "execution_count": 97,
   "id": "df43577b",
   "metadata": {},
   "outputs": [
    {
     "data": {
      "text/plain": [
       "'6PwjJ58I4t7Mae9xfZ9l9v'"
      ]
     },
     "execution_count": 97,
     "metadata": {},
     "output_type": "execute_result"
    }
   ],
   "source": [
    "try1['tracks']['items'][0]['id']"
   ]
  },
  {
   "cell_type": "code",
   "execution_count": 102,
   "id": "cfdfe7f7",
   "metadata": {},
   "outputs": [
    {
     "data": {
      "text/plain": [
       "{'danceability': 0.497,\n",
       " 'energy': 0.97,\n",
       " 'key': 10,\n",
       " 'loudness': -4.851,\n",
       " 'mode': 0,\n",
       " 'speechiness': 0.0836,\n",
       " 'acousticness': 9.04e-05,\n",
       " 'instrumentalness': 0.000674,\n",
       " 'liveness': 0.101,\n",
       " 'valence': 0.689,\n",
       " 'tempo': 138.081,\n",
       " 'type': 'audio_features',\n",
       " 'id': '6PwjJ58I4t7Mae9xfZ9l9v',\n",
       " 'uri': 'spotify:track:6PwjJ58I4t7Mae9xfZ9l9v',\n",
       " 'track_href': 'https://api.spotify.com/v1/tracks/6PwjJ58I4t7Mae9xfZ9l9v',\n",
       " 'analysis_url': 'https://api.spotify.com/v1/audio-analysis/6PwjJ58I4t7Mae9xfZ9l9v',\n",
       " 'duration_ms': 197200,\n",
       " 'time_signature': 4}"
      ]
     },
     "execution_count": 102,
     "metadata": {},
     "output_type": "execute_result"
    }
   ],
   "source": [
    "cresults=sp.audio_features(tracks=try1['tracks']['items'][0]['id']) \n",
    "cresults[0]"
   ]
  },
  {
   "cell_type": "code",
   "execution_count": 73,
   "id": "6b53fce9",
   "metadata": {},
   "outputs": [],
   "source": [
    "    song_deets=[]\n",
    "    final_list={}\n",
    "    n=0\n",
    "    for i in song_id_list:\n",
    "        songdeets=sp.audio_features(tracks=i)[0]\n",
    "        songdeets['tracks']['items'][0]['id']\n",
    "        songdeets['song_name']=song_list[n]\n",
    "        final_list[i] = songdeets\n",
    "        n+=1"
   ]
  },
  {
   "cell_type": "code",
   "execution_count": 193,
   "id": "1109dadc",
   "metadata": {},
   "outputs": [
    {
     "data": {
      "text/plain": [
       "4"
      ]
     },
     "execution_count": 193,
     "metadata": {},
     "output_type": "execute_result"
    }
   ],
   "source": [
    "best_cluster=music[music['song_name']=='Waiting']['clusters']\n",
    "best_cluster.values[0]"
   ]
  },
  {
   "cell_type": "code",
   "execution_count": 26,
   "id": "37dbc47d",
   "metadata": {},
   "outputs": [
    {
     "data": {
      "text/plain": [
       "array(['The Shift', 'The Unknown', 'Waiting', 'Deja Vu', 'Without You',\n",
       "       'Cut The Cord', 'Planets III', 'Sleep In The Fire', 'I Wish',\n",
       "       'Start Again'], dtype=object)"
      ]
     },
     "execution_count": 26,
     "metadata": {},
     "output_type": "execute_result"
    }
   ],
   "source": [
    "music['song_name'].head(10).values"
   ]
  },
  {
   "cell_type": "code",
   "execution_count": 36,
   "id": "2909024e",
   "metadata": {
    "scrolled": true
   },
   "outputs": [
    {
     "name": "stdout",
     "output_type": "stream",
     "text": [
      "Enter a song you like:Firework\n",
      "Now playing How I Live\n"
     ]
    }
   ],
   "source": [
    "new_song = input('Enter a song you like:')\n",
    "if new_song in list(music['song_name']):\n",
    "    best_cluster=music[music['song_name']==new_song]['clusters']\n",
    "    filt_cluster=music[music['clusters']==best_cluster.values[0]].reset_index(drop=True)\n",
    "    print('Now playing something we think you will like:', random.choice(filt_cluster['song_name']))\n",
    "else:\n",
    "    song_feats={}\n",
    "    songdeets=sp.search(new_song, limit=10, offset=0, type='track', market=None)\n",
    "    songdeets=sp.audio_features(tracks=songdeets['tracks']['items'][0]['id'])[0]\n",
    "    song_feats[0]=songdeets\n",
    "    song_frame=pd.DataFrame(song_feats).T.reset_index()\n",
    "    song_frame = song_frame.drop(['index','track_href','type','uri','id','analysis_url'],axis=1)\n",
    "    org_song_frame=song_frame['danceability'], song_frame['energy'], song_frame['key'], song_frame['loudness'], song_frame['mode'], song_frame['speechiness'],song_frame['acousticness'], song_frame['instrumentalness'], song_frame['liveness'], song_frame['valence'], song_frame['tempo'],song_frame['duration_ms'], song_frame['time_signature']\n",
    "    org_song_frame=pd.DataFrame(org_song_frame)\n",
    "    song_stats=org_song_frame[0]\n",
    "    testdist=0\n",
    "    for j in range(k):\n",
    "        clusterloop = music_num[music_num['clusters']==j]\n",
    "        clusterloop=clusterloop.drop('clusters',axis=1)\n",
    "        clusterloop_center = np.mean(clusterloop)\n",
    "        for i in range(len(clusterloop_center)):\n",
    "            testdist=testdist+(song_stats[i]-clusterloop_center[i])**2\n",
    "            if j==0:\n",
    "                besttest=testdist\n",
    "                best_cluster=j\n",
    "            if (j>0)&(abs(testdist)<abs(besttest)):\n",
    "                besttest=testdist\n",
    "                best_cluster=j\n",
    "\n",
    "    song_pool=music[music['clusters']==best_cluster]\n",
    "    song_pool=pd.DataFrame(song_pool).reset_index(drop=True)\n",
    "    print('Now playing', random.choice(song_pool['song_name']))"
   ]
  },
  {
   "cell_type": "code",
   "execution_count": 147,
   "id": "5f0deebe",
   "metadata": {},
   "outputs": [
    {
     "data": {
      "text/plain": [
       "Index(['level_0', 'index', 'danceability', 'energy', 'key', 'loudness', 'mode',\n",
       "       'speechiness', 'acousticness', 'instrumentalness', 'liveness',\n",
       "       'valence', 'tempo', 'duration_ms', 'time_signature', 'song_name'],\n",
       "      dtype='object')"
      ]
     },
     "execution_count": 147,
     "metadata": {},
     "output_type": "execute_result"
    }
   ],
   "source": [
    "music.columns"
   ]
  },
  {
   "cell_type": "code",
   "execution_count": 166,
   "id": "94d672c1",
   "metadata": {},
   "outputs": [
    {
     "data": {
      "text/plain": [
       "13"
      ]
     },
     "execution_count": 166,
     "metadata": {},
     "output_type": "execute_result"
    }
   ],
   "source": [
    "clusterloop = music_num[music_num['clusters']==2]\n",
    "clusterloop=clusterloop.drop('clusters',axis=1)\n",
    "clusterloop_center = np.mean(clusterloop)\n",
    "len(clusterloop_center)"
   ]
  },
  {
   "cell_type": "code",
   "execution_count": 152,
   "id": "ac010751",
   "metadata": {},
   "outputs": [
    {
     "data": {
      "text/plain": [
       "6832"
      ]
     },
     "execution_count": 152,
     "metadata": {},
     "output_type": "execute_result"
    }
   ],
   "source": [
    "len(music['song_name'])"
   ]
  },
  {
   "cell_type": "code",
   "execution_count": 151,
   "id": "1166b901",
   "metadata": {},
   "outputs": [
    {
     "data": {
      "text/plain": [
       "'Stick Stickly'"
      ]
     },
     "execution_count": 151,
     "metadata": {},
     "output_type": "execute_result"
    }
   ],
   "source": [
    "music['song_name'][342]"
   ]
  },
  {
   "cell_type": "code",
   "execution_count": 143,
   "id": "de5f5285",
   "metadata": {},
   "outputs": [
    {
     "data": {
      "text/plain": [
       "danceability             0.796000\n",
       "energy                   0.798000\n",
       "key                      1.000000\n",
       "loudness                -6.312000\n",
       "mode                     1.000000\n",
       "speechiness              0.031700\n",
       "acousticness             0.034000\n",
       "instrumentalness         0.000042\n",
       "liveness                 0.095200\n",
       "valence                  0.942000\n",
       "tempo                  116.032000\n",
       "duration_ms         202735.000000\n",
       "time_signature           4.000000\n",
       "Name: 0, dtype: float64"
      ]
     },
     "execution_count": 143,
     "metadata": {},
     "output_type": "execute_result"
    }
   ],
   "source": [
    "org_song_frame[0]"
   ]
  },
  {
   "cell_type": "code",
   "execution_count": 141,
   "id": "c70f2c4c",
   "metadata": {},
   "outputs": [
    {
     "data": {
      "text/html": [
       "<div>\n",
       "<style scoped>\n",
       "    .dataframe tbody tr th:only-of-type {\n",
       "        vertical-align: middle;\n",
       "    }\n",
       "\n",
       "    .dataframe tbody tr th {\n",
       "        vertical-align: top;\n",
       "    }\n",
       "\n",
       "    .dataframe thead th {\n",
       "        text-align: right;\n",
       "    }\n",
       "</style>\n",
       "<table border=\"1\" class=\"dataframe\">\n",
       "  <thead>\n",
       "    <tr style=\"text-align: right;\">\n",
       "      <th></th>\n",
       "      <th>0</th>\n",
       "    </tr>\n",
       "  </thead>\n",
       "  <tbody>\n",
       "    <tr>\n",
       "      <th>danceability</th>\n",
       "      <td>0.796000</td>\n",
       "    </tr>\n",
       "    <tr>\n",
       "      <th>energy</th>\n",
       "      <td>0.798000</td>\n",
       "    </tr>\n",
       "    <tr>\n",
       "      <th>key</th>\n",
       "      <td>1.000000</td>\n",
       "    </tr>\n",
       "    <tr>\n",
       "      <th>loudness</th>\n",
       "      <td>-6.312000</td>\n",
       "    </tr>\n",
       "    <tr>\n",
       "      <th>mode</th>\n",
       "      <td>1.000000</td>\n",
       "    </tr>\n",
       "    <tr>\n",
       "      <th>speechiness</th>\n",
       "      <td>0.031700</td>\n",
       "    </tr>\n",
       "    <tr>\n",
       "      <th>acousticness</th>\n",
       "      <td>0.034000</td>\n",
       "    </tr>\n",
       "    <tr>\n",
       "      <th>instrumentalness</th>\n",
       "      <td>0.000042</td>\n",
       "    </tr>\n",
       "    <tr>\n",
       "      <th>liveness</th>\n",
       "      <td>0.095200</td>\n",
       "    </tr>\n",
       "    <tr>\n",
       "      <th>valence</th>\n",
       "      <td>0.942000</td>\n",
       "    </tr>\n",
       "    <tr>\n",
       "      <th>tempo</th>\n",
       "      <td>116.032000</td>\n",
       "    </tr>\n",
       "    <tr>\n",
       "      <th>duration_ms</th>\n",
       "      <td>202735.000000</td>\n",
       "    </tr>\n",
       "    <tr>\n",
       "      <th>time_signature</th>\n",
       "      <td>4.000000</td>\n",
       "    </tr>\n",
       "  </tbody>\n",
       "</table>\n",
       "</div>"
      ],
      "text/plain": [
       "                              0\n",
       "danceability           0.796000\n",
       "energy                 0.798000\n",
       "key                    1.000000\n",
       "loudness              -6.312000\n",
       "mode                   1.000000\n",
       "speechiness            0.031700\n",
       "acousticness           0.034000\n",
       "instrumentalness       0.000042\n",
       "liveness               0.095200\n",
       "valence                0.942000\n",
       "tempo                116.032000\n",
       "duration_ms       202735.000000\n",
       "time_signature         4.000000"
      ]
     },
     "execution_count": 141,
     "metadata": {},
     "output_type": "execute_result"
    }
   ],
   "source": [
    "teststats=org_song_frame\n",
    "teststats"
   ]
  },
  {
   "cell_type": "code",
   "execution_count": 130,
   "id": "f500be16",
   "metadata": {},
   "outputs": [
    {
     "data": {
      "text/plain": [
       "14"
      ]
     },
     "execution_count": 130,
     "metadata": {},
     "output_type": "execute_result"
    }
   ],
   "source": [
    "clusterloop = np.mean(music_num[music_num['clusters']==0])\n",
    "len(clusterloop)"
   ]
  },
  {
   "cell_type": "code",
   "execution_count": 88,
   "id": "b5996ef5",
   "metadata": {},
   "outputs": [
    {
     "ename": "IndentationError",
     "evalue": "expected an indented block (<ipython-input-88-44cfc645cf67>, line 8)",
     "output_type": "error",
     "traceback": [
      "\u001b[1;36m  File \u001b[1;32m\"<ipython-input-88-44cfc645cf67>\"\u001b[1;36m, line \u001b[1;32m8\u001b[0m\n\u001b[1;33m    clustertest=np.mean(clusterloop)\u001b[0m\n\u001b[1;37m    ^\u001b[0m\n\u001b[1;31mIndentationError\u001b[0m\u001b[1;31m:\u001b[0m expected an indented block\n"
     ]
    }
   ],
   "source": []
  },
  {
   "cell_type": "code",
   "execution_count": 89,
   "id": "d173c6a7",
   "metadata": {},
   "outputs": [],
   "source": [
    "clusterloop = music_num[music_num['clusters']==0]"
   ]
  },
  {
   "cell_type": "code",
   "execution_count": 96,
   "id": "bbc993f2",
   "metadata": {},
   "outputs": [],
   "source": [
    "ck=np.mean(clusterloop)"
   ]
  },
  {
   "cell_type": "code",
   "execution_count": 101,
   "id": "7d20212a",
   "metadata": {},
   "outputs": [
    {
     "data": {
      "text/plain": [
       "14"
      ]
     },
     "execution_count": 101,
     "metadata": {},
     "output_type": "execute_result"
    }
   ],
   "source": [
    "len(ck)"
   ]
  },
  {
   "cell_type": "code",
   "execution_count": 102,
   "id": "92a8bd1b",
   "metadata": {},
   "outputs": [
    {
     "data": {
      "text/plain": [
       "danceability             0.723742\n",
       "energy                   0.725322\n",
       "key                      5.318352\n",
       "loudness                -6.025884\n",
       "mode                     0.788015\n",
       "speechiness              0.119677\n",
       "acousticness             0.097722\n",
       "instrumentalness         0.007277\n",
       "liveness                 0.157653\n",
       "valence                  0.636385\n",
       "tempo                  118.931414\n",
       "duration_ms         203139.286142\n",
       "time_signature           3.991011\n",
       "clusters                 0.000000\n",
       "dtype: float64"
      ]
     },
     "execution_count": 102,
     "metadata": {},
     "output_type": "execute_result"
    }
   ],
   "source": [
    "ck"
   ]
  },
  {
   "cell_type": "code",
   "execution_count": 100,
   "id": "be2af3b5",
   "metadata": {},
   "outputs": [
    {
     "data": {
      "text/plain": [
       "3.9910112359550562"
      ]
     },
     "execution_count": 100,
     "metadata": {},
     "output_type": "execute_result"
    }
   ],
   "source": [
    "ck[12]"
   ]
  },
  {
   "cell_type": "code",
   "execution_count": 148,
   "id": "d1c0bd89",
   "metadata": {},
   "outputs": [
    {
     "data": {
      "text/plain": [
       "'Talk #1 - Live'"
      ]
     },
     "execution_count": 148,
     "metadata": {},
     "output_type": "execute_result"
    }
   ],
   "source": [
    "random.choice(music['song_name'])"
   ]
  },
  {
   "cell_type": "code",
   "execution_count": null,
   "id": "5a8c406e",
   "metadata": {},
   "outputs": [],
   "source": []
  }
 ],
 "metadata": {
  "kernelspec": {
   "display_name": "Python 3",
   "language": "python",
   "name": "python3"
  },
  "language_info": {
   "codemirror_mode": {
    "name": "ipython",
    "version": 3
   },
   "file_extension": ".py",
   "mimetype": "text/x-python",
   "name": "python",
   "nbconvert_exporter": "python",
   "pygments_lexer": "ipython3",
   "version": "3.8.8"
  }
 },
 "nbformat": 4,
 "nbformat_minor": 5
}
